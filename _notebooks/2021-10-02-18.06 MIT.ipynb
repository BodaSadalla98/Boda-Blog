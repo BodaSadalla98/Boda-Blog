{
 "cells": [
  {
   "cell_type": "markdown",
   "metadata": {},
   "source": [
    "# This is Post for MIT 18.06 Linear Algebra course\n",
    "\n"
   ]
  },
  {
   "cell_type": "markdown",
   "metadata": {},
   "source": [
    "## Lecture 19\n",
    "\n",
    "- det I =1 \n",
    "- sign reverses with each row or colums exchange \n",
    "- det is linear in each row seperately\n",
    "\n",
    "### Big Det Formula\n",
    "\n",
    "\n",
    "\n",
    "\n",
    "for a N * N matrix, we calc the sum of N! terms\n",
    " \n",
    "$$detA=\\sum_{i=1}^ N a1\\alpha*a2\\beta*a3\\gamma*an\\omega$$\n",
    "\n",
    "\n",
    "(where $\\alpha, \\beta, ... \\omega $) = perm of (1,2,3, ..., N )\n",
    "\n",
    "### Cofactors \n",
    "\n",
    "    cofactor of aij  =  Cij  =   +/-  det of ( n-1 matrix with column j, and  row i erased )\n",
    "        it is plus if i+j is even, minus if i+j is odd \n",
    "\n",
    "#### cofactor formula (along row 1)\n",
    "    det A = a11 C11 + a12 C12 + .... + a1n C1n"
   ]
  },
  {
   "cell_type": "markdown",
   "metadata": {},
   "source": [
    "## Lecture 20 \n",
    "\n",
    "\n",
    "$ A^{-1} = 1/detA * C^T$  where C is the cofactors matrix\n",
    "\n",
    "### Cramers rule \n",
    "\n",
    "A x = b\n",
    "\n",
    "x= A^ (-1) b  = 1/detA C^T b \n",
    "\n",
    "X_j = detB_j / detA  where B_j is A matrix with column j replaced by b\n",
    "\n",
    "\n",
    "### Det A = Volume \n",
    "\n",
    "detA = volume of the shape created by making an edge from each of the rows"
   ]
  },
  {
   "cell_type": "markdown",
   "metadata": {},
   "source": [
    "\n"
   ]
  },
  {
   "cell_type": "markdown",
   "metadata": {},
   "source": []
  }
 ],
 "metadata": {
  "kernelspec": {
   "display_name": "Python 3",
   "language": "python",
   "name": "python3"
  },
  "language_info": {
   "codemirror_mode": {
    "name": "ipython",
    "version": 3
   },
   "file_extension": ".py",
   "mimetype": "text/x-python",
   "name": "python",
   "nbconvert_exporter": "python",
   "pygments_lexer": "ipython3",
   "version": "3.8.6"
  }
 },
 "nbformat": 4,
 "nbformat_minor": 5
}
