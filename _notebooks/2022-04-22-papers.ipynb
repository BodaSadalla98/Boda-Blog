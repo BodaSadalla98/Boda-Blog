{
 "cells": [
  {
   "cell_type": "markdown",
   "metadata": {},
   "source": [
    "# Deep Learning Papers Summarization \n",
    "> A Summary of DL papers\n",
    "\n",
    "- toc: true \n",
    "- badges: true\n",
    "- comments: true\n",
    "- categories: [jupyter,deeplearning,python]"
   ]
  },
  {
   "cell_type": "markdown",
   "metadata": {},
   "source": [
    "## Decoupled Neural Interfaces using Synthetic Gradients\n",
    "\n",
    "* In NN, the training process, has 3 bottle-necks\n",
    "    - forward lock: you need to calculate teh output of the previous layer before you can can go into next layer in forward pass\n",
    "    - backward pass: the same, but for backward propagation \n",
    "    - weights lock: you can't update weights unless you do for weights in next layer\n",
    "* the paper trying to unlock these bootle-necks by decoupling each layer, to be sufficient alone\n",
    "* it does that by introducing, a Synthetic Gradient Model, that can predict the gradient for the current layer, without waiting for the gradient of the next layer\n",
    "* this was we can calculate gradient and update weights as soon as we calculate the activation of the current layer\n",
    "\n",
    "### Synthetic Gradient Model\n",
    "* can be just a simple NN that is trained to output the gradient of the layer\n",
    "* it can be trained using the true gradient, or even the synthetic gradient of the next layer\n",
    "* it's important that the last layer computes the true gradient, as in the end we must have a ground truth to can calculate a true loss, and the NN would actually train\n",
    "\n",
    "\n",
    "* we can have also synthetic model for forward pass, that works with the same idea"
   ]
  }
 ],
 "metadata": {
  "language_info": {
   "name": "python"
  },
  "orig_nbformat": 4
 },
 "nbformat": 4,
 "nbformat_minor": 2
}
