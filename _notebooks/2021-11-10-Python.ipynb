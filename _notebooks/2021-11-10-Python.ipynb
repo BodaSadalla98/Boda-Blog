{
 "cells": [
  {
   "cell_type": "markdown",
   "id": "9d86193b",
   "metadata": {},
   "source": [
    "# Python Notebook \n",
    "> Python trics \n",
    "- toc: true \n",
    "- badges: true\n",
    "- comments: true\n",
    "- categories: [jupyter,python]"
   ]
  },
  {
   "cell_type": "markdown",
   "id": "da98d091",
   "metadata": {},
   "source": [
    "## Inheritance \n",
    "\n",
    "- If you have inherited from parent class then you should call the parent class constructor if you overload it, or simply doesn't overload it \n",
    "\n",
    "Ex:"
   ]
  },
  {
   "cell_type": "code",
   "execution_count": null,
   "id": "370d1df4",
   "metadata": {},
   "outputs": [],
   "source": [
    "class parent:\n",
    "    def __init__:\n",
    "        \n",
    "class child:\n",
    "    def __init__:\n",
    "        super().__init__()\n",
    "        \n",
    "class child2:\n",
    "    ## or simply don't override the constructor and use the parent one\n",
    "    \n"
   ]
  },
  {
   "cell_type": "markdown",
   "id": "a7f32df0",
   "metadata": {},
   "source": [
    "### Multiple Inheritance\n",
    "\n",
    "- when we inherit from two or more classes, whatever class we inherited first(typed first in the list), would be the one to have pariority\n",
    "    - if the two parent classes have the same function, then Method Resolution Orded (MRO) makes the fist class method to be the one called \n",
    "\n",
    "- if we override a function from the parent class in the child class, the cild class has the pariority\n",
    "\n",
    "- to call the both finctions, then we can call the parent class from the child class directly\n",
    "    - ex:  in the child class we can do:  `parent.method()`"
   ]
  },
  {
   "cell_type": "code",
   "execution_count": null,
   "id": "02110b86",
   "metadata": {},
   "outputs": [],
   "source": []
  }
 ],
 "metadata": {
  "kernelspec": {
   "display_name": "Python 3",
   "language": "python",
   "name": "python3"
  },
  "language_info": {
   "codemirror_mode": {
    "name": "ipython",
    "version": 3
   },
   "file_extension": ".py",
   "mimetype": "text/x-python",
   "name": "python",
   "nbconvert_exporter": "python",
   "pygments_lexer": "ipython3",
   "version": "3.8.8"
  }
 },
 "nbformat": 4,
 "nbformat_minor": 5
}
