{
 "cells": [
  {
   "cell_type": "markdown",
   "id": "f901bb86",
   "metadata": {},
   "source": [
    "# NLP Specialization \n",
    "> Notebook for coursera's NLP Specialization \n",
    "\n",
    "- toc: true \n",
    "- badges: true\n",
    "- comments: true\n",
    "- categories: [jupyter,deeplearning,python,NLP]\n"
   ]
  },
  {
   "cell_type": "markdown",
   "id": "a5efd2e8",
   "metadata": {},
   "source": [
    "# Course 1"
   ]
  },
  {
   "cell_type": "markdown",
   "id": "aea02882",
   "metadata": {},
   "source": [
    "## Weak 4 \n",
    "\n",
    "### Hashing \n",
    "\n",
    "* We can use hashing to search for the K-nearest vectors, to heavily reduce the searching space\n",
    "\n",
    "#### Locality senstive hashing \n",
    "* the idea is to put items that are close in the vector space, in the same hashing buckets \n",
    "* we can create a set of planes and calculate the relative position of points compated to this plane and then we can calculate the hash value for this point accordingly \n",
    "\n",
    "* but how can we be sure, that the planes that we chose are the perfect set to seperate our space, we can't be sure of that, so we create a multi sets of random planes and every set would get us a different way to seperate our words"
   ]
  },
  {
   "cell_type": "code",
   "execution_count": null,
   "id": "086b8594",
   "metadata": {},
   "outputs": [],
   "source": []
  }
 ],
 "metadata": {
  "kernelspec": {
   "display_name": "Python 3",
   "language": "python",
   "name": "python3"
  },
  "language_info": {
   "codemirror_mode": {
    "name": "ipython",
    "version": 3
   },
   "file_extension": ".py",
   "mimetype": "text/x-python",
   "name": "python",
   "nbconvert_exporter": "python",
   "pygments_lexer": "ipython3",
   "version": "3.8.8"
  }
 },
 "nbformat": 4,
 "nbformat_minor": 5
}
