{
 "cells": [
  {
   "cell_type": "markdown",
   "metadata": {},
   "source": [
    "# Mind Exercise\n",
    "> A bunch of topics and ideas that popped into my head, tryin to understand life\n",
    "\n",
    "- toc: true \n",
    "- badges: true\n",
    "- comments: true\n",
    "- categories: [jupyter,life,python]\n"
   ]
  },
  {
   "cell_type": "markdown",
   "metadata": {},
   "source": [
    "## Permenant Mindset Vs Temporary Circumstances \n",
    "Life doesn't  have to be hard all the time, but u need to be prepared on how to  deal with hard times. U are walking in ur way, someplaces gonna be hard and some gonna be easy, buy anyway u continue  walking, focusing on the way, are u going on the right track  or not, are u going with good speed or not? What about ur acceleration? Are u accelerating or decelerating? Ideally, the  environment  around you should have as little effect as possible on your pace…"
   ]
  },
  {
   "cell_type": "markdown",
   "metadata": {},
   "source": [
    "## Life Marathon \n",
    "\n",
    "Life is like a race, or u can say a marathon. And  your actions and doings are you speed. Your good or evil intentions and doings are ur compass, ur map.\n",
    "If u think about life with those two principles, then u find that:\n",
    "\n",
    "It doesn't matter at age we die, we still  reach the end of that marathon, cause god doesn't reward or punish us for how long we obeyed him or sinned, but we are hold acountable for our intentions. This means a guy that died at 20 yrs old,  can have higher reward in the afterlife, than someone who died in his 90s.\n",
    "This can also help explain, the idea that  a non-believer would stay in punishment for ever in the  afterlife, as disbelief in the one true god can has an infinite weight in the afterlife's balance of judgment.\n",
    "\n",
    "The second principle  means, that some ppl would be marching in this marathon on the wrong direction and some are going in the  right one. So you can find urself at the end at the wrong end line, one that has hell punishment after it.\n",
    "It's not all black and sad, because acc god gave us an implanted compass inside of each one of us, compass that helps us go to the  right track in case we are on the wrong one, and it's the same compass that also keeps us on the right track encouraging us to continue and to increase our velocity on it. This compass is the natural instinct that god gave every and each one of us when were born.\n"
   ]
  },
  {
   "cell_type": "markdown",
   "metadata": {},
   "source": [
    "## Atleast be a Sine. Never be a Random Curve\n",
    "\n",
    "\n",
    "TALK ABOUT THE ONE STRAING ROAD AND WE SHOULD BE GOING ON SIN WAVES WITH HIGH FREQUENCY "
   ]
  },
  {
   "cell_type": "markdown",
   "metadata": {},
   "source": [
    "## Sadness\n",
    "The constant feelings  of sadness is so strong, it's strong  that if in a random moment I feel happy, I would immediately check if im in a rare random dream. It's sad, that im not try to that feeling anymore that I try to jinx it, and get back  to the normal, lost living  soul on earth. What makes me feel more sad and angry at myself, is that I don't know why I feel this way, what's the source for it all? Could it be that im not religious as I used to be? Could it be my sins that are trying  to cover me? Could it just be in my mind? Could it be the tough situations im living it? Could it be the injustices that happen all around me, both inside and abroad?  Well, these are the tough questions, that  I have to find answers to myself. Yes, that's  right, myself, im the only one who can help me, who else can fully understand my situation, how I feel. Even if I try to explain to a genuine friend who is trying to help, but how can he fully realize it! What if it's a combination of all these things? What if there's a solution, but I got used to the constant sadness, that it became my normal, that I don't want to change  it? I keep saying that I can't continue like this, that I should try to change it, but do I really wanna change it, it's just a feeling driven by the  society standards that it's not normal to keep feeling  this way."
   ]
  }
 ],
 "metadata": {
  "language_info": {
   "name": "python"
  },
  "orig_nbformat": 4
 },
 "nbformat": 4,
 "nbformat_minor": 2
}
