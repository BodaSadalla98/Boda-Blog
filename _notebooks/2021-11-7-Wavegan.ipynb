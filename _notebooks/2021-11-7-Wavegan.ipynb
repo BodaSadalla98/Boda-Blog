{
 "cells": [
  {
   "cell_type": "markdown",
   "metadata": {},
   "source": [
    "# Scribbles Notebook \n",
    "> Research for wavegan\n",
    "- toc: true \n",
    "- badges: true\n",
    "- comments: true\n",
    "- categories: [jupyter,deeplearning,python]"
   ]
  },
  {
   "cell_type": "markdown",
   "metadata": {},
   "source": [
    "### Why WaveGan\n",
    "in the past we used a nueral vocoder, but it represented  a bottleneck in quality and speed "
   ]
  },
  {
   "cell_type": "markdown",
   "metadata": {},
   "source": [
    "### Before WaveGan \n",
    "\n",
    "#### Autoregressive generation: \n",
    "- It's an approach in which speech samples are generated one by one in sequence.\n",
    "- Examples: WaveNet \n",
    "- Has high quality \n",
    "- Takes around 180 secs to generate a one second of speech \n",
    "- can't be applied to services \n",
    "\n",
    "#### Non-autoregressive generation:\n",
    "- It's an approach where all voice samples are generated in prallel \n",
    "- Examples: Prallel WaveNet \n",
    "- Lower quality than autoregressive method\n",
    "- takes 0.03 seconds to generates one second of speed  \n",
    "- "
   ]
  },
  {
   "cell_type": "markdown",
   "metadata": {},
   "source": [
    "### Resources \n",
    " - https://www.youtube.com/watch?v=knzT7M6qsl0\n",
    " "
   ]
  }
 ],
 "metadata": {
  "kernelspec": {
   "display_name": "Python 3",
   "language": "python",
   "name": "python3"
  },
  "language_info": {
   "codemirror_mode": {
    "name": "ipython",
    "version": 3
   },
   "file_extension": ".py",
   "mimetype": "text/x-python",
   "name": "python",
   "nbconvert_exporter": "python",
   "pygments_lexer": "ipython3",
   "version": "3.8.6"
  }
 },
 "nbformat": 4,
 "nbformat_minor": 4
}
